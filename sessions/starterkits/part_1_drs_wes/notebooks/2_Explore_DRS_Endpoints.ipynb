{
 "cells": [
  {
   "cell_type": "markdown",
   "id": "706d3d6d",
   "metadata": {},
   "source": [
    "# Data Repository Service Endpoints\n",
    "**Find the detailed GA4GH DRS Specification [here](https://github.com/ga4gh/data-repository-service-schemas).**"
   ]
  },
  {
   "cell_type": "code",
   "execution_count": 10,
   "id": "6fe34410",
   "metadata": {},
   "outputs": [],
   "source": [
    "import requests\n",
    "import json\n",
    "\n",
    "drs_port = \"4500\"\n",
    "aws_drs_base_url = \"http://training.ga4gh.org:{}/ga4gh/{}/v1\"\n",
    "drs_base_url = aws_drs_base_url.format(drs_port,\"drs\")\n",
    "\n",
    "service_info_path = \"/service-info\"\n",
    "object_path_get = \"/objects/{}\"\n",
    "object_path_post = \"/objects\"\n",
    "access_path = \"/objects/{}/access/{}\"\n",
    "\n",
    "def pretty_print_json(response):\n",
    "    # pretty print JSON in blue color\n",
    "    print(\"\\033[38;2;8;75;138m\"+json.dumps(response.json(), indent=4)+\"\\033[0m\")\n",
    "    \n",
    "def print_head(text):\n",
    "    # print in green color\n",
    "    print(\"\\033[38;2;8;138;75m\"+text+\"\\033[0m\")"
   ]
  },
  {
   "cell_type": "markdown",
   "id": "2d04e4f4",
   "metadata": {},
   "source": [
    "## i. GET `/service-info`\n",
    "**Retrieve information about this service**"
   ]
  },
  {
   "cell_type": "code",
   "execution_count": 11,
   "id": "d42e60cf",
   "metadata": {},
   "outputs": [
    {
     "name": "stdout",
     "output_type": "stream",
     "text": [
      "\u001b[38;2;8;138;75mGET request to http://training.ga4gh.org:4500/ga4gh/drs/v1/service-info\u001b[0m\n",
      "\u001b[38;2;8;75;138m{\n",
      "    \"id\": \"org.ga4gh.starterkit.drs\",\n",
      "    \"name\": \"GA4GH Starter Kit DRS Service\",\n",
      "    \"description\": \"An open source, community-driven implementation of the GA4GH Data Repository Service (DRS) API specification.\",\n",
      "    \"contactUrl\": \"mailto:info@ga4gh.org\",\n",
      "    \"documentationUrl\": \"https://github.com/ga4gh/ga4gh-starter-kit-drs\",\n",
      "    \"createdAt\": \"2020-01-15T12:00:00Z\",\n",
      "    \"updatedAt\": \"2020-01-15T12:00:00Z\",\n",
      "    \"environment\": \"test\",\n",
      "    \"version\": \"0.3.2\",\n",
      "    \"type\": {\n",
      "        \"group\": \"org.ga4gh\",\n",
      "        \"artifact\": \"drs\",\n",
      "        \"version\": \"1.3.0experimental\"\n",
      "    },\n",
      "    \"organization\": {\n",
      "        \"name\": \"Global Alliance for Genomics and Health\",\n",
      "        \"url\": \"https://ga4gh.org\"\n",
      "    }\n",
      "}\u001b[0m\n"
     ]
    }
   ],
   "source": [
    "http_method = \"GET\"\n",
    "request_url = drs_base_url+service_info_path\n",
    "\n",
    "print_head(\"{} request to {}\".format(http_method, request_url))\n",
    "\n",
    "# GET request to service-info endpoint\n",
    "drs_service_info_resp = requests.request(http_method, request_url)\n",
    "\n",
    "# print the response\n",
    "pretty_print_json(drs_service_info_resp)"
   ]
  },
  {
   "cell_type": "markdown",
   "id": "d1e700ff",
   "metadata": {},
   "source": [
    "## ii. GET `/objects/{object_id}`\n",
    "**Returns object metadata, and a list of access methods that can be used to fetch object bytes**"
   ]
  },
  {
   "cell_type": "code",
   "execution_count": 14,
   "id": "a5630010",
   "metadata": {},
   "outputs": [
    {
     "name": "stdout",
     "output_type": "stream",
     "text": [
      "\u001b[38;2;8;138;75mGET request to http://training.ga4gh.org:4500/ga4gh/drs/v1/objects/1a570e4e-2489-4218-9333-f65549495872\u001b[0m\n",
      "\u001b[38;2;8;75;138m{\n",
      "    \"id\": \"1a570e4e-2489-4218-9333-f65549495872\",\n",
      "    \"description\": \"Phenopackets, Cao family, Patient 1\",\n",
      "    \"created_time\": \"2021-03-12T20:00:00Z\",\n",
      "    \"mime_type\": \"application/json\",\n",
      "    \"name\": \"phenopackets.cao.1\",\n",
      "    \"size\": 4257,\n",
      "    \"updated_time\": \"2021-03-13T12:30:45Z\",\n",
      "    \"version\": \"1.0.0\",\n",
      "    \"aliases\": [\n",
      "        \"Cao-FBN1-1\"\n",
      "    ],\n",
      "    \"checksums\": [\n",
      "        {\n",
      "            \"checksum\": \"34880a6b8aa517a6999da912614753ffb0a837a8\",\n",
      "            \"type\": \"sha1\"\n",
      "        },\n",
      "        {\n",
      "            \"checksum\": \"ec44e2ad7ec84c7c42ba57b205e67c7c7416ae1932029d8364cc053cef7abe58\",\n",
      "            \"type\": \"sha256\"\n",
      "        },\n",
      "        {\n",
      "            \"checksum\": \"f81ea43c74824cc72c77a39a92bf7b71\",\n",
      "            \"type\": \"md5\"\n",
      "        }\n",
      "    ],\n",
      "    \"self_uri\": \"drs://localhost:4500/1a570e4e-2489-4218-9333-f65549495872\",\n",
      "    \"access_methods\": [\n",
      "        {\n",
      "            \"access_id\": \"0df6f93e-b793-4c84-b522-d47c15b8fa52\",\n",
      "            \"type\": \"https\"\n",
      "        },\n",
      "        {\n",
      "            \"access_url\": {\n",
      "                \"url\": \"s3://ga4gh-demo-data/phenopackets/Cao-2018-FBN1-Patient_1.json\"\n",
      "            },\n",
      "            \"type\": \"s3\",\n",
      "            \"region\": \"us-east-2\"\n",
      "        }\n",
      "    ]\n",
      "}\u001b[0m\n"
     ]
    }
   ],
   "source": [
    "http_method = \"GET\"\n",
    "sample_drs_id = \"1a570e4e-2489-4218-9333-f65549495872\"\n",
    "request_url = drs_base_url+object_path_get.format(sample_drs_id)\n",
    "\n",
    "print_head(\"{} request to {}\".format(http_method, request_url))\n",
    "\n",
    "# GET request to /objects/{object_id} endpoint\n",
    "drs_object_response = requests.request(http_method, request_url)\n",
    "\n",
    "# print the response\n",
    "pretty_print_json(drs_object_response)"
   ]
  },
  {
   "cell_type": "markdown",
   "id": "45e7fbdb",
   "metadata": {},
   "source": [
    "## iii. Bulk request multiple DRS objects"
   ]
  },
  {
   "cell_type": "code",
   "execution_count": 15,
   "id": "63f76572",
   "metadata": {},
   "outputs": [
    {
     "name": "stdout",
     "output_type": "stream",
     "text": [
      "\u001b[38;2;8;138;75mSending POST request to http://training.ga4gh.org:4500/ga4gh/drs/v1/objects \n",
      "with request_body: {\"selection\": [\"1a570e4e-2489-4218-9333-f65549495872\", \"924901d5-6d31-4c33-b443-7931eadfac4b\"]}\u001b[0m\n",
      "\u001b[38;2;8;75;138m{\n",
      "    \"summary\": {\n",
      "        \"requested\": 2,\n",
      "        \"resolved\": 2,\n",
      "        \"unresolved\": 0\n",
      "    },\n",
      "    \"resolved_drs_object\": [\n",
      "        {\n",
      "            \"id\": \"1a570e4e-2489-4218-9333-f65549495872\",\n",
      "            \"description\": \"Phenopackets, Cao family, Patient 1\",\n",
      "            \"created_time\": \"2021-03-12T20:00:00Z\",\n",
      "            \"mime_type\": \"application/json\",\n",
      "            \"name\": \"phenopackets.cao.1\",\n",
      "            \"size\": 4257,\n",
      "            \"updated_time\": \"2021-03-13T12:30:45Z\",\n",
      "            \"version\": \"1.0.0\",\n",
      "            \"aliases\": [\n",
      "                \"Cao-FBN1-1\"\n",
      "            ],\n",
      "            \"checksums\": [\n",
      "                {\n",
      "                    \"checksum\": \"34880a6b8aa517a6999da912614753ffb0a837a8\",\n",
      "                    \"type\": \"sha1\"\n",
      "                },\n",
      "                {\n",
      "                    \"checksum\": \"ec44e2ad7ec84c7c42ba57b205e67c7c7416ae1932029d8364cc053cef7abe58\",\n",
      "                    \"type\": \"sha256\"\n",
      "                },\n",
      "                {\n",
      "                    \"checksum\": \"f81ea43c74824cc72c77a39a92bf7b71\",\n",
      "                    \"type\": \"md5\"\n",
      "                }\n",
      "            ],\n",
      "            \"self_uri\": \"drs://localhost:4500/1a570e4e-2489-4218-9333-f65549495872\",\n",
      "            \"access_methods\": [\n",
      "                {\n",
      "                    \"access_id\": \"006227c5-fba7-49a8-89ae-84f02226c60b\",\n",
      "                    \"type\": \"https\"\n",
      "                },\n",
      "                {\n",
      "                    \"access_url\": {\n",
      "                        \"url\": \"s3://ga4gh-demo-data/phenopackets/Cao-2018-FBN1-Patient_1.json\"\n",
      "                    },\n",
      "                    \"type\": \"s3\",\n",
      "                    \"region\": \"us-east-2\"\n",
      "                }\n",
      "            ]\n",
      "        },\n",
      "        {\n",
      "            \"id\": \"924901d5-6d31-4c33-b443-7931eadfac4b\",\n",
      "            \"description\": \"Phenopackets, Cao family, Patient 3\",\n",
      "            \"created_time\": \"2021-03-12T20:00:00Z\",\n",
      "            \"mime_type\": \"application/json\",\n",
      "            \"name\": \"phenopackets.cao.3\",\n",
      "            \"size\": 4251,\n",
      "            \"updated_time\": \"2021-03-13T12:30:45Z\",\n",
      "            \"version\": \"1.0.0\",\n",
      "            \"aliases\": [\n",
      "                \"Cao-FBN1-3\"\n",
      "            ],\n",
      "            \"checksums\": [\n",
      "                {\n",
      "                    \"checksum\": \"d3192e17ffd97f7255ffbe2c6f9b447568107612\",\n",
      "                    \"type\": \"sha1\"\n",
      "                },\n",
      "                {\n",
      "                    \"checksum\": \"f60583aad0e25fc4805668663bcc3bef271f4f93ee98be4f57f6e8c3e26d9dba\",\n",
      "                    \"type\": \"sha256\"\n",
      "                },\n",
      "                {\n",
      "                    \"checksum\": \"45b61bbe53b13463cd602081613ad855\",\n",
      "                    \"type\": \"md5\"\n",
      "                }\n",
      "            ],\n",
      "            \"self_uri\": \"drs://localhost:4500/924901d5-6d31-4c33-b443-7931eadfac4b\",\n",
      "            \"access_methods\": [\n",
      "                {\n",
      "                    \"access_id\": \"b288bc30-c0d3-4176-8a3a-c2eb97d70564\",\n",
      "                    \"type\": \"https\"\n",
      "                },\n",
      "                {\n",
      "                    \"access_url\": {\n",
      "                        \"url\": \"s3://ga4gh-demo-data/phenopackets/Cao-2018-FBN1-Patient_3.json\"\n",
      "                    },\n",
      "                    \"type\": \"s3\",\n",
      "                    \"region\": \"us-east-2\"\n",
      "                }\n",
      "            ]\n",
      "        }\n",
      "    ],\n",
      "    \"unresolved_drs_object\": {}\n",
      "}\u001b[0m\n"
     ]
    }
   ],
   "source": [
    "http_method = \"POST\"\n",
    "sample_drs_id_1 = \"1a570e4e-2489-4218-9333-f65549495872\"\n",
    "sample_drs_id_2 = \"924901d5-6d31-4c33-b443-7931eadfac4b\"\n",
    "request_body = json.dumps(\n",
    "    {\n",
    "        \"selection\": [\n",
    "            sample_drs_id_1,\n",
    "            sample_drs_id_2\n",
    "        ]\n",
    "    }\n",
    ")\n",
    "request_header = {'Content-Type': 'application/json'}\n",
    "request_url = drs_base_url+object_path_post\n",
    "\n",
    "print_head(\"Sending {} request to {} \\nwith request_body: {}\".format(http_method, request_url, request_body))\n",
    "\n",
    "# Bulk request multiple DRS objects\n",
    "drs_object_bulk_response = requests.request(\n",
    "    method = http_method, \n",
    "    url = request_url, \n",
    "    headers = request_header, \n",
    "    data = request_body)\n",
    "\n",
    "# print the response\n",
    "pretty_print_json(drs_object_bulk_response)"
   ]
  },
  {
   "cell_type": "markdown",
   "id": "c62f8917",
   "metadata": {},
   "source": [
    "## iv. OPTIONS object by id"
   ]
  },
  {
   "cell_type": "code",
   "execution_count": 18,
   "id": "f1fb2ac8",
   "metadata": {},
   "outputs": [
    {
     "name": "stdout",
     "output_type": "stream",
     "text": [
      "\u001b[38;2;8;138;75mOPTIONS request to http://training.ga4gh.org:4500/ga4gh/drs/v1/objects/1a570e4e-2489-4218-9333-f65549495872\u001b[0m\n",
      "\u001b[38;2;8;75;138m{\n",
      "    \"supported_types\": [\n",
      "        \"None\"\n",
      "    ]\n",
      "}\u001b[0m\n"
     ]
    }
   ],
   "source": [
    "http_method = \"OPTIONS\"\n",
    "sample_drs_id = \"1a570e4e-2489-4218-9333-f65549495872\"\n",
    "request_url = drs_base_url+object_path_get.format(sample_drs_id)\n",
    "\n",
    "print_head(\"{} request to {}\".format(http_method, request_url))\n",
    "\n",
    "# OPTIONS request to /objects/{object_id}\n",
    "drs_object_options_response = requests.request(\"OPTIONS\", request_url)\n",
    "\n",
    "# print the response\n",
    "pretty_print_json(drs_object_options_response)"
   ]
  },
  {
   "cell_type": "markdown",
   "id": "8f9bdb03",
   "metadata": {},
   "source": [
    "## For more endpoints, find the detailed GA4GH DRS Specification [here](https://github.com/ga4gh/data-repository-service-schemas)."
   ]
  }
 ],
 "metadata": {
  "kernelspec": {
   "display_name": "Python 3 (ipykernel)",
   "language": "python",
   "name": "python3"
  },
  "language_info": {
   "codemirror_mode": {
    "name": "ipython",
    "version": 3
   },
   "file_extension": ".py",
   "mimetype": "text/x-python",
   "name": "python",
   "nbconvert_exporter": "python",
   "pygments_lexer": "ipython3",
   "version": "3.9.6"
  }
 },
 "nbformat": 4,
 "nbformat_minor": 5
}
