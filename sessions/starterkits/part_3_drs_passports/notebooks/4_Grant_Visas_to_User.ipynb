{
 "cells": [
  {
   "cell_type": "markdown",
   "id": "43f5cb21",
   "metadata": {},
   "source": [
    "# ROLE: Data Provider (Admin)"
   ]
  },
  {
   "cell_type": "markdown",
   "id": "d0caa518",
   "metadata": {},
   "source": [
    "# Passport Broker - Confirm that the user is created and Grant visas to this user"
   ]
  },
  {
   "cell_type": "code",
   "execution_count": null,
   "id": "954359a4",
   "metadata": {},
   "outputs": [],
   "source": [
    "import requests\n",
    "import json\n",
    "\n",
    "\n",
    "pb_admin_port = \"4501\"\n",
    "ga4gh_base_url = \"http://localhost:{}/admin/ga4gh/{}/v1\"\n",
    "pb_admin_base_url = ga4gh_base_url.format(pb_admin_port,\"passport\")\n",
    "\n",
    "users_path = \"/users\"\n",
    "\n",
    "print(\"Passport Broker Admin base URL : {}\".format(pb_admin_base_url))\n",
    "\n",
    "def pretty_print_json(response):\n",
    "    # pretty print JSON in blue color\n",
    "    print(\"\\033[38;2;8;75;138m\"+json.dumps(response.json(), indent=4)+\"\\033[0m\")\n",
    "    \n",
    "def print_head(text):\n",
    "    # print in green color\n",
    "    print(\"\\033[38;2;8;138;75m\"+text+\"\\033[0m\")"
   ]
  },
  {
   "cell_type": "code",
   "execution_count": null,
   "id": "e58ad80c",
   "metadata": {},
   "outputs": [],
   "source": [
    "user_id = input(\"Enter the user_id from the passport UI: \")"
   ]
  },
  {
   "cell_type": "markdown",
   "id": "fdb27cd6",
   "metadata": {},
   "source": [
    "## i. confirm that the user is created"
   ]
  },
  {
   "cell_type": "code",
   "execution_count": null,
   "id": "033282b4",
   "metadata": {},
   "outputs": [],
   "source": [
    "http_method = \"GET\"\n",
    "request_url = pb_admin_base_url + users_path\n",
    "pb_users_resp = requests.request(http_method, request_url)\n",
    "\n",
    "print_head(\"{} request to {}\".format(http_method, request_url))\n",
    "pretty_print_json(pb_users_resp)"
   ]
  },
  {
   "cell_type": "markdown",
   "id": "965205f7",
   "metadata": {},
   "source": [
    "Your user_id should be listed in this response"
   ]
  },
  {
   "cell_type": "markdown",
   "id": "e5d55796",
   "metadata": {},
   "source": [
    "## ii. Grant visas to the newly created user"
   ]
  },
  {
   "cell_type": "markdown",
   "id": "c20b00b4",
   "metadata": {},
   "source": [
    "For the purpose of this exercise, we will grant all the visas to the user, providing them with the flexibility to create a Passport Token with the desired visas."
   ]
  },
  {
   "cell_type": "code",
   "execution_count": null,
   "id": "42d6a401",
   "metadata": {},
   "outputs": [],
   "source": [
    "http_method = \"PUT\"\n",
    "request_url = pb_admin_base_url + users_path + \"/\" + user_id\n",
    "        \n",
    "request_body = json.dumps({\n",
    "  \"id\": user_id,\n",
    "  \"passportVisaAssertions\": [\n",
    "    {\n",
    "      \"status\": \"active\",\n",
    "      \"passportVisa\": {\n",
    "        \"id\": \"b62249d0-d71d-42d2-9a67-55003fdae8ec\",\n",
    "        \"visaName\": \"1000GenomesIndividualsWithAmericanAncestry\",\n",
    "        \"visaIssuer\": \"https://federatedgenomics.org/\",\n",
    "        \"visaDescription\": \"Controls access to genomic data obtained from individuals with American ancestry\",\n",
    "        \"visaSecret\": \"BF9CAB5D5157C5C21EBDEE6C91D91\"\n",
    "      }\n",
    "    },\n",
    "    {\n",
    "      \"status\": \"active\",\n",
    "      \"passportVisa\": {\n",
    "        \"id\": \"6ecaef9e-d6bb-4d96-9aed-ca517ceed8a1\",\n",
    "        \"visaName\": \"1000GenomesIndividualsWithEastAsianAncestry\",\n",
    "        \"visaIssuer\": \"https://federatedgenomics.org/\",\n",
    "        \"visaDescription\": \"Controls access to genomic data obtained from individuals with East Asian ancestry\"\n",
    "      }\n",
    "    },\n",
    "    {\n",
    "      \"status\": \"active\",\n",
    "      \"passportVisa\": {\n",
    "        \"id\": \"3af0e101-cd51-4fe4-aa8c-29a69be48fe0\",\n",
    "        \"visaName\": \"1000GenomesIndividualsWithEuropeanAncestry\",\n",
    "        \"visaIssuer\": \"https://federatedgenomics.org/\",\n",
    "        \"visaDescription\": \"Controls access to genomic data obtained from individuals with European ancestry\",\n",
    "        \"visaSecret\": \"47B42DF32976DFDBD6EC4D9ED2593\"\n",
    "      }\n",
    "    },\n",
    "    {\n",
    "      \"status\": \"active\",\n",
    "      \"passportVisa\": {\n",
    "        \"id\": \"e38f656e-3146-4b06-92f2-6edea44f0cd1\",\n",
    "        \"visaName\": \"1000GenomesIndividualsWithAfricanAncestry\",\n",
    "        \"visaIssuer\": \"https://federatedgenomics.org/\",\n",
    "        \"visaDescription\": \"Controls access to genomic data obtained from individuals with African ancestry\",\n",
    "        \"visaSecret\": \"582A164E2C5DA377F3E3F76158CE6\"\n",
    "      }\n",
    "    },\n",
    "    {\n",
    "      \"status\": \"active\",\n",
    "      \"passportVisa\": {\n",
    "        \"id\": \"55cb5d06-bbf3-428b-a822-3565557518ba\",\n",
    "        \"visaName\": \"1000GenomesIndividualsWithSouthAsianAncestry\",\n",
    "        \"visaIssuer\": \"https://federatedgenomics.org/\",\n",
    "        \"visaDescription\": \"Controls access to genomic data obtained from individuals with South Asian ancestry\",\n",
    "        \"visaSecret\": \"9474C832599DC95F949DB3CAE443E\"\n",
    "      }\n",
    "    },\n",
    "    {\n",
    "      \"status\": \"active\",\n",
    "      \"passportVisa\": {\n",
    "        \"id\": \"e26f8428-1a5d-4465-b389-10998ba7b894\",\n",
    "        \"visaName\": \"StarterKitDatasetsControlledAccessGrants\",\n",
    "        \"visaIssuer\": \"https://datasets.starterkit.ga4gh.org/\",\n",
    "        \"visaDescription\": \"Controls access to genomic data obtained from Starter Kits\",\n",
    "        \"visaSecret\": \"87A3B5D68FD88197254D9889B4AAB\"\n",
    "    },\n",
    "    {\n",
    "      \"status\": \"active\",\n",
    "      \"passportVisa\": {\n",
    "        \"id\": \"996ead07-8dfc-4c5d-b319-5b59bebb507e\",\n",
    "       \"visaName\": \"StarterKitDatasetsControlledAccessGrants\",\n",
    "       \"visaIssuer\": \"https://datasets.starterkit.ga4gh.org/\",\n",
    "       \"visaDescription\": \"Controls access to genomic data obtained from Starter Kits\",\n",
    "       \"visaSecret\": \"87A3B5D68FD88197254D9889B4AAB\"\n",
    "      }\n",
    "    }\n",
    "  ]\n",
    "})\n",
    "\n",
    "\n",
    "request_headers = {'Content-Type': 'application/json'}\n",
    "\n",
    "print_head(\"Grant Visas to the user: {} \\nby sending a {} request to {}\".format(user_id, http_method, request_url))\n",
    "\n",
    "response = requests.request(\n",
    "    http_method, \n",
    "    request_url, \n",
    "    headers = request_headers, \n",
    "    data = request_body)\n",
    "\n",
    "# print the response\n",
    "pretty_print_json(response)"
   ]
  }
 ],
 "metadata": {
  "kernelspec": {
   "display_name": "Python 3 (ipykernel)",
   "language": "python",
   "name": "python3"
  },
  "language_info": {
   "codemirror_mode": {
    "name": "ipython",
    "version": 3
   },
   "file_extension": ".py",
   "mimetype": "text/x-python",
   "name": "python",
   "nbconvert_exporter": "python",
   "pygments_lexer": "ipython3",
   "version": "3.10.6"
  }
 },
 "nbformat": 4,
 "nbformat_minor": 5
}
