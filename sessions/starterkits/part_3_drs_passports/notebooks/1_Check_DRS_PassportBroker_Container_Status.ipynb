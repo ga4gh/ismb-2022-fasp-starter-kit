{
 "cells": [
  {
   "cell_type": "markdown",
   "id": "42d53aaa",
   "metadata": {},
   "source": [
    "# ROLE: Data Consumer (Client)"
   ]
  },
  {
   "cell_type": "markdown",
   "id": "dbdc2c1f",
   "metadata": {},
   "source": [
    "# Check if DRS and Passport Broker containers are up and running"
   ]
  },
  {
   "cell_type": "code",
   "execution_count": null,
   "id": "018bf17c",
   "metadata": {},
   "outputs": [],
   "source": [
    "import requests\n",
    "import json\n",
    "\n",
    "drs_port = \"4500\"\n",
    "pb_port = \"4500\"\n",
    "aws_drs_base_url = \"http://training.ga4gh.org:{}/ga4gh/{}/v1\"\n",
    "ga4gh_base_url = \"http://localhost:{}/ga4gh/{}/v1\"\n",
    "drs_base_url = aws_drs_base_url.format(drs_port,\"drs\")\n",
    "pb_base_url = ga4gh_base_url.format(pb_port,\"passport\")\n",
    "\n",
    "service_info_path = \"/service-info\"\n",
    "\n",
    "def pretty_print_json(response):\n",
    "    # pretty print JSON in blue color\n",
    "    print(\"\\033[38;2;8;75;138m\"+json.dumps(response.json(), indent=4)+\"\\033[0m\")\n",
    "    \n",
    "def print_head(text):\n",
    "    # print in green color\n",
    "    print(\"\\033[38;2;8;138;75m\"+text+\"\\033[0m\")"
   ]
  },
  {
   "cell_type": "markdown",
   "id": "e7ff8267",
   "metadata": {},
   "source": [
    "## i. Data Repository Service - GET `/service-info`"
   ]
  },
  {
   "cell_type": "code",
   "execution_count": null,
   "id": "f10d350d",
   "metadata": {},
   "outputs": [],
   "source": [
    "http_method = \"GET\"\n",
    "request_url = drs_base_url+service_info_path\n",
    "drs_service_info_resp = requests.request(http_method, request_url)\n",
    "\n",
    "print_head(\"{} request to {}\".format(http_method, request_url))\n",
    "pretty_print_json(drs_service_info_resp)"
   ]
  },
  {
   "cell_type": "markdown",
   "id": "77afe5b2",
   "metadata": {},
   "source": [
    "## ii. Passport Broker - GET `/service-info`"
   ]
  },
  {
   "cell_type": "code",
   "execution_count": null,
   "id": "3b203f51",
   "metadata": {},
   "outputs": [],
   "source": [
    "http_method = \"GET\"\n",
    "request_url = pb_base_url+service_info_path\n",
    "pb_service_info_resp = requests.request(http_method, request_url)\n",
    "\n",
    "print_head(\"Passport Broker service-info response:\")\n",
    "pretty_print_json(pb_service_info_resp)"
   ]
  }
 ],
 "metadata": {
  "kernelspec": {
   "display_name": "Python 3 (ipykernel)",
   "language": "python",
   "name": "python3"
  },
  "language_info": {
   "codemirror_mode": {
    "name": "ipython",
    "version": 3
   },
   "file_extension": ".py",
   "mimetype": "text/x-python",
   "name": "python",
   "nbconvert_exporter": "python",
   "pygments_lexer": "ipython3",
   "version": "3.10.6"
  }
 },
 "nbformat": 4,
 "nbformat_minor": 5
}
